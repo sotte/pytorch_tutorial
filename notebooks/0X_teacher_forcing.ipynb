{
 "cells": [
  {
   "cell_type": "markdown",
   "metadata": {},
   "source": [
    "# \"Teacher Forcing\"\n",
    "\n",
    "\"Teacher forcing\" is a method used in sequence2sequence models.\n",
    "It replaces a wrong words in the predicted sequence with the correct one.\n",
    "\n",
    "Think of a teacher that corrects your translation as soon as you say a wrong word to prevent you going off on a tangent."
   ]
  },
  {
   "cell_type": "markdown",
   "metadata": {},
   "source": [
    "Here is the pseudo code for teacher forcing:\n",
    "\n",
    "```python\n",
    "class Seq2SeqModel(nn.Module):\n",
    "    def __init__(self, p_teacher_forcing: float):\n",
    "        self.p_teacher_forcing = p_teacher_forcing\n",
    "        # ...\n",
    "    \n",
    "    def forward(self, X, y):\n",
    "        # ... some calculation\n",
    "        current_word = torch.zeros(...)\n",
    "        result = []\n",
    "        for i in range(self.sentence_length):\n",
    "            # ... some calculation with current_word\n",
    "            result.append(output)\n",
    "            current_word = torch.argmax(output)\n",
    "            \n",
    "            # teacher forcing\n",
    "            if self.p_teacher_forcing > random.random():\n",
    "                current_word = y[i]\n",
    "        \n",
    "        return torch.stack(result)\n",
    "```\n",
    "\n",
    "Reduce `p_teacher_forcing` during training and let it converge to 0."
   ]
  }
 ],
 "metadata": {
  "kernelspec": {
   "display_name": "Python 3",
   "language": "python",
   "name": "python3"
  },
  "language_info": {
   "codemirror_mode": {
    "name": "ipython",
    "version": 3
   },
   "file_extension": ".py",
   "mimetype": "text/x-python",
   "name": "python",
   "nbconvert_exporter": "python",
   "pygments_lexer": "ipython3",
   "version": "3.7.3"
  }
 },
 "nbformat": 4,
 "nbformat_minor": 2
}

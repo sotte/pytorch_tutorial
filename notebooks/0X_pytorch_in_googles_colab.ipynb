{
 "cells": [
  {
   "cell_type": "markdown",
   "metadata": {},
   "source": [
    "# Using PyTorch + GPU/TPU in Google's Colab\n",
    "\n",
    "> Colaboratory is a Google research project created to help disseminate machine learning education and research. It's a Jupyter notebook environment that requires no setup to use and runs entirely in the cloud.\n",
    "> Colaboratory notebooks are stored in Google Drive and can be shared just as you would with Google Docs or Sheets. Colaboratory is free to use.\n",
    "> -- https://colab.research.google.com/notebooks/welcome.ipynb\n",
    "\n",
    "**Setup**\n",
    "- Go to https://colab.research.google.com\n",
    "- Create a new python 3 notebook\n",
    "- Enable the GPU: \"Edit -> Notebook settings -> Hardware accelerator: GPU -> Save\"\n",
    "- Then try the following:\n",
    "\n",
    "```python\n",
    "import torch\n",
    "\n",
    "print(torch.__version__)\n",
    "\n",
    "DEVICE = \"cuda\" if torch.cuda.is_available() else \"cpu\"\n",
    "print(DEVICE)\n",
    "```"
   ]
  },
  {
   "cell_type": "markdown",
   "metadata": {},
   "source": [
    "You should get something like this:\n",
    "> 1.0.1.post2\n",
    ">\n",
    "> cuda"
   ]
  },
  {
   "cell_type": "markdown",
   "metadata": {},
   "source": [
    "# Using this Repo in Colab\n",
    "You can use this repo with google colab,\n",
    "but not all notebooks run without changes.\n",
    "Some notebooks import from `utils.py` which is not availbale on colab.\n",
    "You have to remove that line and copy and paste the required function/class into the notebook.\n",
    "\n",
    "It's easy to use colab. Simply append the url from the notebook on github to `https://colab.research.google.com/github/`. E.g. `notebooks/pytorch_basics.ipynb` is available under:\n",
    "https://colab.research.google.com/github/sotte/pytorch_tutorial/blob/master/notebooks/pytorch_basics.ipynb)"
   ]
  }
 ],
 "metadata": {
  "kernelspec": {
   "display_name": "Python 3",
   "language": "python",
   "name": "python3"
  },
  "language_info": {
   "codemirror_mode": {
    "name": "ipython",
    "version": 3
   },
   "file_extension": ".py",
   "mimetype": "text/x-python",
   "name": "python",
   "nbconvert_exporter": "python",
   "pygments_lexer": "ipython3",
   "version": "3.7.3"
  }
 },
 "nbformat": 4,
 "nbformat_minor": 2
}
